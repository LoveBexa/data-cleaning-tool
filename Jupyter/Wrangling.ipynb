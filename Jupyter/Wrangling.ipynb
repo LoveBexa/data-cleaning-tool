{
 "cells": [
  {
   "cell_type": "code",
   "execution_count": null,
   "id": "intermediate-captain",
   "metadata": {},
   "outputs": [],
   "source": [
    "import pandas as pd\n",
    "import numpy as np \n",
    "\n",
    "columns = 'columns'\n",
    "df1_mode =  lambda x:x.value_counts().index[0]\n",
    "\n",
    "# ---- READING JSON FILE ---- # \n",
    "#  Users/bexa/Documents/Compsci/Advanced Programming/Summative/facilities.json\n",
    "\n",
    "# ask user for json file location\n",
    "enter_json = input ('Please enter the file location of your cleaned JSON file:')\n",
    "# read as pandas dataframe\n",
    "df1 = pd.read_json(enter_json)\n"
   ]
  },
  {
   "cell_type": "code",
   "execution_count": null,
   "id": "southern-audio",
   "metadata": {},
   "outputs": [],
   "source": [
    "\n",
    "# ---- EXPORT AS JSON ---- #\n",
    "\n",
    "def export_json(file, type):\n",
    "    try:\n",
    "        file_name = input(\"Please enter a file name you'd like to use:\")\n",
    "        new_json_name = file_name + \".json\"\n",
    "        file.to_json(new_json_name, index='true', orient=type) \n",
    "\n",
    "    except NameError:\n",
    "        print(\"You have not loaded or cleaned your files to export yet!\")\n",
    "\n",
    "    "
   ]
  },
  {
   "cell_type": "code",
   "execution_count": null,
   "id": "expanded-plant",
   "metadata": {},
   "outputs": [],
   "source": [
    "\n",
    "\n",
    "\n",
    "# ---- SEATING MEAN, MEDIAN, MODE SCORE ----- #\n",
    "\n",
    "# making grouped by activity date first, then seating\n",
    "grouped = df1.groupby(['ACTIVITY DATE', 'SEATING'])\n",
    "\n",
    "\n",
    "# make activity date by YEAR \n",
    "# using score to calculate\n",
    "group_df1 = grouped['SCORE']\n",
    "\n"
   ]
  },
  {
   "cell_type": "code",
   "execution_count": null,
   "id": "d932c9cb",
   "metadata": {},
   "outputs": [],
   "source": [
    "\n",
    "# Calculating Mode by using value counts then finding the first value in row\n",
    "\n",
    "# calculating mean, median \n",
    "df1_mean = group_df1.agg([('MEAN', 'mean'), ('MEDIAN','median'), ('MODE', df1_mode)])\n",
    "\n",
    "# turn mean/median/mode groupby table into DataFrame \n",
    "df1_1 = pd.DataFrame(df1_mean)\n",
    "\n",
    "print(df1_1)\n",
    "\n"
   ]
  },
  {
   "cell_type": "code",
   "execution_count": null,
   "id": "78bb6aa5",
   "metadata": {},
   "outputs": [],
   "source": [
    "\n",
    "\n",
    "# ---- ZIP CODES MEAN, MEDIAN, MODE SCORE ----- #\n",
    "\n",
    "\n",
    "# making grouped by activity date first, then seating\n",
    "grouped = df1.groupby(['ACTIVITY DATE', 'ZIP CODES'])\n",
    "\n",
    "# using score to calculate\n",
    "group_df2 = grouped['SCORE']\n",
    "\n",
    "# Calculating Mode by using value counts then finding the first value in row\n",
    "\n",
    "# calculating mean, median \n",
    "df2_mean = group_df2.agg([('MEAN', 'mean'), ('MEDIAN','median'), ('MODE', df1_mode)])\n",
    "\n",
    "# turn mean/median/mode groupby table into DataFrame \n",
    "df2_1 = pd.DataFrame(df2_mean)\n",
    "\n",
    "print(df2_1)\n"
   ]
  },
  {
   "cell_type": "code",
   "execution_count": null,
   "id": "3d0d1fcb",
   "metadata": {},
   "outputs": [],
   "source": [
    "\n",
    "# ----TEST / CHECKS ----- #\n",
    "\n",
    "# print(\"VIOLATION MERGE: \", df6_merge.loc[df6_merge['VIOLATION CODE'] == 'F001'])\n",
    "# print(\"VIOLATION CODE: \", df6_merge.loc[df6_merge['FACILITY ID'] == 'FA0170678'])\n",
    "# print(\"FACILITY FA0019271: \", df5_cleaned.loc[df5_cleaned['FACILITY ID'] == 'FA0019271'])\n",
    "# print(\"FACILITY df3 FA0019271: \", df3.loc[df3['FACILITY ID'] == 'FA0019271'])\n",
    "\n"
   ]
  },
  {
   "cell_type": "code",
   "execution_count": null,
   "id": "3b9901da",
   "metadata": {},
   "outputs": [],
   "source": []
  }
 ],
 "metadata": {
  "kernelspec": {
   "display_name": "Python 3",
   "language": "python",
   "name": "python3"
  },
  "language_info": {
   "codemirror_mode": {
    "name": "ipython",
    "version": 3
   },
   "file_extension": ".py",
   "mimetype": "text/x-python",
   "name": "python",
   "nbconvert_exporter": "python",
   "pygments_lexer": "ipython3",
   "version": "3.8.2"
  }
 },
 "nbformat": 4,
 "nbformat_minor": 5
}
